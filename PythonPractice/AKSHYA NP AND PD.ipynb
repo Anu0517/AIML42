{
 "cells": [
  {
   "cell_type": "markdown",
   "id": "b9b4ffb8",
   "metadata": {},
   "source": [
    "\n",
    "#numpy"
   ]
  },
  {
   "cell_type": "code",
   "execution_count": 21,
   "id": "624518d4",
   "metadata": {},
   "outputs": [],
   "source": [
    "import numpy as np\n",
    "import pandas as pd\n",
    "from  numpy.random import randn"
   ]
  },
  {
   "cell_type": "markdown",
   "id": "dab6f06d",
   "metadata": {},
   "source": [
    "## This is numphy\n"
   ]
  },
  {
   "cell_type": "code",
   "execution_count": 4,
   "id": "c6f01a48",
   "metadata": {},
   "outputs": [
    {
     "name": "stdout",
     "output_type": "stream",
     "text": [
      "[[0.23930426 0.94431876]\n",
      " [0.50124887 0.4253437 ]\n",
      " [0.47638689 0.8050785 ]\n",
      " [0.36551022 0.93036528]\n",
      " [0.5646413  0.22749907]]\n"
     ]
    }
   ],
   "source": [
    "import numpy as np\n",
    "x =np.random.rand(5,2)\n",
    "\n",
    "print(x)\n"
   ]
  },
  {
   "cell_type": "code",
   "execution_count": 8,
   "id": "dc6aa93a",
   "metadata": {},
   "outputs": [
    {
     "name": "stdout",
     "output_type": "stream",
     "text": [
      "[ 2  4  6  8 10 12 14]\n"
     ]
    }
   ],
   "source": [
    "y =np.arange(2,16,2)\n",
    "print(y)"
   ]
  },
  {
   "cell_type": "code",
   "execution_count": 16,
   "id": "bfe676bb",
   "metadata": {},
   "outputs": [
    {
     "name": "stdout",
     "output_type": "stream",
     "text": [
      "[54 46 97 36 27 29 97 28 94 46 88 43 48 16 35 60  2 40 58 90 42  5  1 64\n",
      " 71]\n"
     ]
    }
   ],
   "source": [
    "z = np.random.randint(1,100,25)\n",
    "print(z)"
   ]
  },
  {
   "cell_type": "code",
   "execution_count": 17,
   "id": "8cc8ea4b",
   "metadata": {},
   "outputs": [
    {
     "name": "stdout",
     "output_type": "stream",
     "text": [
      "[[54 46 97 36 27]\n",
      " [29 97 28 94 46]\n",
      " [88 43 48 16 35]\n",
      " [60  2 40 58 90]\n",
      " [42  5  1 64 71]]\n"
     ]
    }
   ],
   "source": [
    "n=z.reshape(5,5)\n",
    "print(n)"
   ]
  },
  {
   "cell_type": "code",
   "execution_count": 26,
   "id": "98491793",
   "metadata": {},
   "outputs": [
    {
     "name": "stdout",
     "output_type": "stream",
     "text": [
      "[[54 46 97 36 27]\n",
      " [29 97 28 94 46]\n",
      " [88 43 48 16 35]\n",
      " [60  2 40 58 90]\n",
      " [42  5  1 64 71]]\n"
     ]
    }
   ],
   "source": [
    "n.shape\n",
    "print(n)"
   ]
  },
  {
   "cell_type": "code",
   "execution_count": 27,
   "id": "083ffa58",
   "metadata": {},
   "outputs": [
    {
     "data": {
      "text/plain": [
       "2"
      ]
     },
     "execution_count": 27,
     "metadata": {},
     "output_type": "execute_result"
    }
   ],
   "source": [
    "n.max()\n",
    "n.argmax()\n"
   ]
  },
  {
   "cell_type": "code",
   "execution_count": 28,
   "id": "76dfa54e",
   "metadata": {},
   "outputs": [
    {
     "data": {
      "text/plain": [
       "1"
      ]
     },
     "execution_count": 28,
     "metadata": {},
     "output_type": "execute_result"
    }
   ],
   "source": [
    "n.min()"
   ]
  },
  {
   "cell_type": "code",
   "execution_count": 30,
   "id": "46b4cd9e",
   "metadata": {},
   "outputs": [
    {
     "data": {
      "text/plain": [
       "22"
      ]
     },
     "execution_count": 30,
     "metadata": {},
     "output_type": "execute_result"
    }
   ],
   "source": [
    "n.argmin()"
   ]
  },
  {
   "cell_type": "markdown",
   "id": "2ee93bfd",
   "metadata": {},
   "source": [
    "### This is pandas (series)"
   ]
  },
  {
   "cell_type": "code",
   "execution_count": 7,
   "id": "e579ba4b",
   "metadata": {},
   "outputs": [
    {
     "data": {
      "text/plain": [
       "a    10\n",
       "b    20\n",
       "dtype: int32"
      ]
     },
     "execution_count": 7,
     "metadata": {},
     "output_type": "execute_result"
    }
   ],
   "source": [
    "x=['a','b']#this is a list of python\n",
    "y=[10,20]\n",
    "z=np.array(y)\n",
    "z\n",
    "m=pd.Series(z,x)\n",
    "m"
   ]
  },
  {
   "cell_type": "code",
   "execution_count": 11,
   "id": "e4893d84",
   "metadata": {},
   "outputs": [
    {
     "data": {
      "text/plain": [
       "japan    1\n",
       "Usa      2\n",
       "india    3\n",
       "korea    4\n",
       "italy    5\n",
       "dtype: int64"
      ]
     },
     "execution_count": 11,
     "metadata": {},
     "output_type": "execute_result"
    }
   ],
   "source": [
    "x=pd.Series([1,2,3,4,5],[\"japan\",\"Usa\",\"india\",\"korea\",\"italy\"])\n",
    "x"
   ]
  },
  {
   "cell_type": "code",
   "execution_count": 13,
   "id": "a25d6abe",
   "metadata": {},
   "outputs": [
    {
     "data": {
      "text/plain": [
       "japan     1\n",
       "Usa       2\n",
       "india     4\n",
       "Africa    4\n",
       "italy     5\n",
       "dtype: int64"
      ]
     },
     "execution_count": 13,
     "metadata": {},
     "output_type": "execute_result"
    }
   ],
   "source": [
    "y=pd.Series([1,2,4,4,5],[\"japan\",\"Usa\",\"india\",\"Africa\",\"italy\"])\n",
    "y"
   ]
  },
  {
   "cell_type": "code",
   "execution_count": 15,
   "id": "179de6dd",
   "metadata": {},
   "outputs": [
    {
     "data": {
      "text/plain": [
       "3"
      ]
     },
     "execution_count": 15,
     "metadata": {},
     "output_type": "execute_result"
    }
   ],
   "source": [
    "x['india']#x[2] also works"
   ]
  },
  {
   "cell_type": "code",
   "execution_count": 16,
   "id": "c242d5a5",
   "metadata": {},
   "outputs": [
    {
     "data": {
      "text/plain": [
       "Africa     NaN\n",
       "Usa        4.0\n",
       "india      7.0\n",
       "italy     10.0\n",
       "japan      2.0\n",
       "korea      NaN\n",
       "dtype: float64"
      ]
     },
     "execution_count": 16,
     "metadata": {},
     "output_type": "execute_result"
    }
   ],
   "source": [
    "x+y# na fo the countries not present\n"
   ]
  },
  {
   "cell_type": "markdown",
   "id": "f2cafdd6",
   "metadata": {},
   "source": [
    "### This is pandas (data frame)\n"
   ]
  },
  {
   "cell_type": "code",
   "execution_count": 33,
   "id": "2ead0a79",
   "metadata": {},
   "outputs": [
    {
     "data": {
      "text/html": [
       "<div>\n",
       "<style scoped>\n",
       "    .dataframe tbody tr th:only-of-type {\n",
       "        vertical-align: middle;\n",
       "    }\n",
       "\n",
       "    .dataframe tbody tr th {\n",
       "        vertical-align: top;\n",
       "    }\n",
       "\n",
       "    .dataframe thead th {\n",
       "        text-align: right;\n",
       "    }\n",
       "</style>\n",
       "<table border=\"1\" class=\"dataframe\">\n",
       "  <thead>\n",
       "    <tr style=\"text-align: right;\">\n",
       "      <th></th>\n",
       "      <th>x</th>\n",
       "      <th>y</th>\n",
       "      <th>Z</th>\n",
       "    </tr>\n",
       "  </thead>\n",
       "  <tbody>\n",
       "    <tr>\n",
       "      <th>A</th>\n",
       "      <td>-0.319381</td>\n",
       "      <td>-1.818190</td>\n",
       "      <td>1.012469</td>\n",
       "    </tr>\n",
       "    <tr>\n",
       "      <th>B</th>\n",
       "      <td>-2.438498</td>\n",
       "      <td>1.222440</td>\n",
       "      <td>0.940618</td>\n",
       "    </tr>\n",
       "    <tr>\n",
       "      <th>c</th>\n",
       "      <td>-0.181365</td>\n",
       "      <td>-0.502498</td>\n",
       "      <td>-0.919417</td>\n",
       "    </tr>\n",
       "  </tbody>\n",
       "</table>\n",
       "</div>"
      ],
      "text/plain": [
       "          x         y         Z\n",
       "A -0.319381 -1.818190  1.012469\n",
       "B -2.438498  1.222440  0.940618\n",
       "c -0.181365 -0.502498 -0.919417"
      ]
     },
     "execution_count": 33,
     "metadata": {},
     "output_type": "execute_result"
    }
   ],
   "source": [
    "df= pd.DataFrame(randn(3,3),[\"A\",\"B\",\"c\"],['x','y','Z'])\n",
    "df"
   ]
  },
  {
   "cell_type": "code",
   "execution_count": 35,
   "id": "106c0029",
   "metadata": {},
   "outputs": [
    {
     "data": {
      "text/plain": [
       "A   -0.319381\n",
       "B   -2.438498\n",
       "c   -0.181365\n",
       "Name: x, dtype: float64"
      ]
     },
     "execution_count": 35,
     "metadata": {},
     "output_type": "execute_result"
    }
   ],
   "source": [
    "df['x']"
   ]
  },
  {
   "cell_type": "code",
   "execution_count": 47,
   "id": "485c377f",
   "metadata": {},
   "outputs": [
    {
     "data": {
      "text/html": [
       "<div>\n",
       "<style scoped>\n",
       "    .dataframe tbody tr th:only-of-type {\n",
       "        vertical-align: middle;\n",
       "    }\n",
       "\n",
       "    .dataframe tbody tr th {\n",
       "        vertical-align: top;\n",
       "    }\n",
       "\n",
       "    .dataframe thead th {\n",
       "        text-align: right;\n",
       "    }\n",
       "</style>\n",
       "<table border=\"1\" class=\"dataframe\">\n",
       "  <thead>\n",
       "    <tr style=\"text-align: right;\">\n",
       "      <th></th>\n",
       "      <th>x</th>\n",
       "      <th>y</th>\n",
       "      <th>Z</th>\n",
       "      <th>M</th>\n",
       "    </tr>\n",
       "  </thead>\n",
       "  <tbody>\n",
       "    <tr>\n",
       "      <th>A</th>\n",
       "      <td>-0.319381</td>\n",
       "      <td>-1.818190</td>\n",
       "      <td>1.012469</td>\n",
       "      <td>-2.137572</td>\n",
       "    </tr>\n",
       "    <tr>\n",
       "      <th>B</th>\n",
       "      <td>-2.438498</td>\n",
       "      <td>1.222440</td>\n",
       "      <td>0.940618</td>\n",
       "      <td>-1.216058</td>\n",
       "    </tr>\n",
       "    <tr>\n",
       "      <th>c</th>\n",
       "      <td>-0.181365</td>\n",
       "      <td>-0.502498</td>\n",
       "      <td>-0.919417</td>\n",
       "      <td>-0.683863</td>\n",
       "    </tr>\n",
       "  </tbody>\n",
       "</table>\n",
       "</div>"
      ],
      "text/plain": [
       "          x         y         Z         M\n",
       "A -0.319381 -1.818190  1.012469 -2.137572\n",
       "B -2.438498  1.222440  0.940618 -1.216058\n",
       "c -0.181365 -0.502498 -0.919417 -0.683863"
      ]
     },
     "execution_count": 47,
     "metadata": {},
     "output_type": "execute_result"
    }
   ],
   "source": [
    "df[\"M\"]= df['x']+df['y']\n",
    "df"
   ]
  },
  {
   "cell_type": "code",
   "execution_count": 7,
   "id": "358b5c4d",
   "metadata": {},
   "outputs": [],
   "source": [
    "\n",
    "from sklearn.tree import DecisionTreeClassifier\n",
    "import pandas as pd"
   ]
  },
  {
   "cell_type": "code",
   "execution_count": 9,
   "id": "d092a90e",
   "metadata": {},
   "outputs": [
    {
     "data": {
      "text/html": [
       "<div>\n",
       "<style scoped>\n",
       "    .dataframe tbody tr th:only-of-type {\n",
       "        vertical-align: middle;\n",
       "    }\n",
       "\n",
       "    .dataframe tbody tr th {\n",
       "        vertical-align: top;\n",
       "    }\n",
       "\n",
       "    .dataframe thead th {\n",
       "        text-align: right;\n",
       "    }\n",
       "</style>\n",
       "<table border=\"1\" class=\"dataframe\">\n",
       "  <thead>\n",
       "    <tr style=\"text-align: right;\">\n",
       "      <th></th>\n",
       "      <th>age</th>\n",
       "      <th>gender</th>\n",
       "      <th>genre</th>\n",
       "    </tr>\n",
       "  </thead>\n",
       "  <tbody>\n",
       "    <tr>\n",
       "      <th>0</th>\n",
       "      <td>20</td>\n",
       "      <td>1</td>\n",
       "      <td>HipHop</td>\n",
       "    </tr>\n",
       "    <tr>\n",
       "      <th>1</th>\n",
       "      <td>23</td>\n",
       "      <td>1</td>\n",
       "      <td>HipHop</td>\n",
       "    </tr>\n",
       "    <tr>\n",
       "      <th>2</th>\n",
       "      <td>25</td>\n",
       "      <td>1</td>\n",
       "      <td>HipHop</td>\n",
       "    </tr>\n",
       "    <tr>\n",
       "      <th>3</th>\n",
       "      <td>26</td>\n",
       "      <td>1</td>\n",
       "      <td>Jazz</td>\n",
       "    </tr>\n",
       "    <tr>\n",
       "      <th>4</th>\n",
       "      <td>29</td>\n",
       "      <td>1</td>\n",
       "      <td>Jazz</td>\n",
       "    </tr>\n",
       "    <tr>\n",
       "      <th>5</th>\n",
       "      <td>30</td>\n",
       "      <td>1</td>\n",
       "      <td>Jazz</td>\n",
       "    </tr>\n",
       "    <tr>\n",
       "      <th>6</th>\n",
       "      <td>31</td>\n",
       "      <td>1</td>\n",
       "      <td>Classical</td>\n",
       "    </tr>\n",
       "    <tr>\n",
       "      <th>7</th>\n",
       "      <td>33</td>\n",
       "      <td>1</td>\n",
       "      <td>Classical</td>\n",
       "    </tr>\n",
       "    <tr>\n",
       "      <th>8</th>\n",
       "      <td>37</td>\n",
       "      <td>1</td>\n",
       "      <td>Classical</td>\n",
       "    </tr>\n",
       "    <tr>\n",
       "      <th>9</th>\n",
       "      <td>20</td>\n",
       "      <td>0</td>\n",
       "      <td>Dance</td>\n",
       "    </tr>\n",
       "    <tr>\n",
       "      <th>10</th>\n",
       "      <td>21</td>\n",
       "      <td>0</td>\n",
       "      <td>Dance</td>\n",
       "    </tr>\n",
       "    <tr>\n",
       "      <th>11</th>\n",
       "      <td>25</td>\n",
       "      <td>0</td>\n",
       "      <td>Dance</td>\n",
       "    </tr>\n",
       "    <tr>\n",
       "      <th>12</th>\n",
       "      <td>26</td>\n",
       "      <td>0</td>\n",
       "      <td>Acoustic</td>\n",
       "    </tr>\n",
       "    <tr>\n",
       "      <th>13</th>\n",
       "      <td>27</td>\n",
       "      <td>0</td>\n",
       "      <td>Acoustic</td>\n",
       "    </tr>\n",
       "    <tr>\n",
       "      <th>14</th>\n",
       "      <td>30</td>\n",
       "      <td>0</td>\n",
       "      <td>Acoustic</td>\n",
       "    </tr>\n",
       "    <tr>\n",
       "      <th>15</th>\n",
       "      <td>31</td>\n",
       "      <td>0</td>\n",
       "      <td>Classical</td>\n",
       "    </tr>\n",
       "    <tr>\n",
       "      <th>16</th>\n",
       "      <td>34</td>\n",
       "      <td>0</td>\n",
       "      <td>Classical</td>\n",
       "    </tr>\n",
       "    <tr>\n",
       "      <th>17</th>\n",
       "      <td>35</td>\n",
       "      <td>0</td>\n",
       "      <td>Classical</td>\n",
       "    </tr>\n",
       "  </tbody>\n",
       "</table>\n",
       "</div>"
      ],
      "text/plain": [
       "    age  gender      genre\n",
       "0    20       1     HipHop\n",
       "1    23       1     HipHop\n",
       "2    25       1     HipHop\n",
       "3    26       1       Jazz\n",
       "4    29       1       Jazz\n",
       "5    30       1       Jazz\n",
       "6    31       1  Classical\n",
       "7    33       1  Classical\n",
       "8    37       1  Classical\n",
       "9    20       0      Dance\n",
       "10   21       0      Dance\n",
       "11   25       0      Dance\n",
       "12   26       0   Acoustic\n",
       "13   27       0   Acoustic\n",
       "14   30       0   Acoustic\n",
       "15   31       0  Classical\n",
       "16   34       0  Classical\n",
       "17   35       0  Classical"
      ]
     },
     "execution_count": 9,
     "metadata": {},
     "output_type": "execute_result"
    }
   ],
   "source": [
    "df=pd.read_csv(\"music.csv\")\n",
    "df"
   ]
  },
  {
   "cell_type": "code",
   "execution_count": 12,
   "id": "695911c3",
   "metadata": {},
   "outputs": [],
   "source": [
    "x=df.drop(columns=[\"genre\"])\n",
    "y=df[\"genre\"]"
   ]
  },
  {
   "cell_type": "code",
   "execution_count": 15,
   "id": "37a0435c",
   "metadata": {},
   "outputs": [
    {
     "name": "stderr",
     "output_type": "stream",
     "text": [
      "C:\\Users\\kisha\\anaconda3\\Lib\\site-packages\\sklearn\\base.py:464: UserWarning: X does not have valid feature names, but DecisionTreeClassifier was fitted with feature names\n",
      "  warnings.warn(\n"
     ]
    },
    {
     "data": {
      "text/plain": [
       "array(['HipHop', 'Dance'], dtype=object)"
      ]
     },
     "execution_count": 15,
     "metadata": {},
     "output_type": "execute_result"
    }
   ],
   "source": [
    "model=DecisionTreeClassifier()\n",
    "model.fit(x,y)\n",
    "predictions=model.predict([[21,1],[22,0]])\n",
    "predictions"
   ]
  },
  {
   "cell_type": "markdown",
   "id": "990769e6",
   "metadata": {},
   "source": [
    "# DataFrame Operations"
   ]
  },
  {
   "cell_type": "code",
   "execution_count": 6,
   "id": "5af7bbcf",
   "metadata": {},
   "outputs": [],
   "source": [
    "import numpy as np\n",
    "import pandas as pd\n",
    "from  numpy.random import randn"
   ]
  },
  {
   "cell_type": "code",
   "execution_count": 8,
   "id": "b6b55ff6",
   "metadata": {},
   "outputs": [],
   "source": [
    "arr=pd.DataFrame(randn(5,5),['A','B','C','D','E'],[\"KA\",'MH','AP','KL','GL'])#creating a dataframe of random digit"
   ]
  },
  {
   "cell_type": "code",
   "execution_count": 9,
   "id": "c6f3c146",
   "metadata": {},
   "outputs": [
    {
     "data": {
      "text/html": [
       "<div>\n",
       "<style scoped>\n",
       "    .dataframe tbody tr th:only-of-type {\n",
       "        vertical-align: middle;\n",
       "    }\n",
       "\n",
       "    .dataframe tbody tr th {\n",
       "        vertical-align: top;\n",
       "    }\n",
       "\n",
       "    .dataframe thead th {\n",
       "        text-align: right;\n",
       "    }\n",
       "</style>\n",
       "<table border=\"1\" class=\"dataframe\">\n",
       "  <thead>\n",
       "    <tr style=\"text-align: right;\">\n",
       "      <th></th>\n",
       "      <th>KA</th>\n",
       "      <th>MH</th>\n",
       "      <th>AP</th>\n",
       "      <th>KL</th>\n",
       "      <th>GL</th>\n",
       "    </tr>\n",
       "  </thead>\n",
       "  <tbody>\n",
       "    <tr>\n",
       "      <th>A</th>\n",
       "      <td>-1.388011</td>\n",
       "      <td>-0.215487</td>\n",
       "      <td>-0.641433</td>\n",
       "      <td>0.226460</td>\n",
       "      <td>-0.135913</td>\n",
       "    </tr>\n",
       "    <tr>\n",
       "      <th>B</th>\n",
       "      <td>-0.324993</td>\n",
       "      <td>0.337643</td>\n",
       "      <td>1.714788</td>\n",
       "      <td>-0.962047</td>\n",
       "      <td>0.035393</td>\n",
       "    </tr>\n",
       "    <tr>\n",
       "      <th>C</th>\n",
       "      <td>1.244341</td>\n",
       "      <td>1.880112</td>\n",
       "      <td>0.677488</td>\n",
       "      <td>0.979616</td>\n",
       "      <td>1.088491</td>\n",
       "    </tr>\n",
       "    <tr>\n",
       "      <th>D</th>\n",
       "      <td>1.367433</td>\n",
       "      <td>-1.037584</td>\n",
       "      <td>-0.354604</td>\n",
       "      <td>-0.239065</td>\n",
       "      <td>-0.770719</td>\n",
       "    </tr>\n",
       "    <tr>\n",
       "      <th>E</th>\n",
       "      <td>-0.668706</td>\n",
       "      <td>0.806593</td>\n",
       "      <td>1.827682</td>\n",
       "      <td>-0.084111</td>\n",
       "      <td>-0.647606</td>\n",
       "    </tr>\n",
       "  </tbody>\n",
       "</table>\n",
       "</div>"
      ],
      "text/plain": [
       "         KA        MH        AP        KL        GL\n",
       "A -1.388011 -0.215487 -0.641433  0.226460 -0.135913\n",
       "B -0.324993  0.337643  1.714788 -0.962047  0.035393\n",
       "C  1.244341  1.880112  0.677488  0.979616  1.088491\n",
       "D  1.367433 -1.037584 -0.354604 -0.239065 -0.770719\n",
       "E -0.668706  0.806593  1.827682 -0.084111 -0.647606"
      ]
     },
     "execution_count": 9,
     "metadata": {},
     "output_type": "execute_result"
    }
   ],
   "source": [
    "arr"
   ]
  },
  {
   "cell_type": "code",
   "execution_count": 12,
   "id": "751a75b0",
   "metadata": {},
   "outputs": [
    {
     "data": {
      "text/html": [
       "<div>\n",
       "<style scoped>\n",
       "    .dataframe tbody tr th:only-of-type {\n",
       "        vertical-align: middle;\n",
       "    }\n",
       "\n",
       "    .dataframe tbody tr th {\n",
       "        vertical-align: top;\n",
       "    }\n",
       "\n",
       "    .dataframe thead th {\n",
       "        text-align: right;\n",
       "    }\n",
       "</style>\n",
       "<table border=\"1\" class=\"dataframe\">\n",
       "  <thead>\n",
       "    <tr style=\"text-align: right;\">\n",
       "      <th></th>\n",
       "      <th>KA</th>\n",
       "      <th>MH</th>\n",
       "      <th>AP</th>\n",
       "      <th>KL</th>\n",
       "      <th>GL</th>\n",
       "    </tr>\n",
       "  </thead>\n",
       "  <tbody>\n",
       "    <tr>\n",
       "      <th>A</th>\n",
       "      <td>NaN</td>\n",
       "      <td>NaN</td>\n",
       "      <td>NaN</td>\n",
       "      <td>0.226460</td>\n",
       "      <td>NaN</td>\n",
       "    </tr>\n",
       "    <tr>\n",
       "      <th>B</th>\n",
       "      <td>NaN</td>\n",
       "      <td>0.337643</td>\n",
       "      <td>1.714788</td>\n",
       "      <td>NaN</td>\n",
       "      <td>0.035393</td>\n",
       "    </tr>\n",
       "    <tr>\n",
       "      <th>C</th>\n",
       "      <td>1.244341</td>\n",
       "      <td>1.880112</td>\n",
       "      <td>0.677488</td>\n",
       "      <td>0.979616</td>\n",
       "      <td>1.088491</td>\n",
       "    </tr>\n",
       "    <tr>\n",
       "      <th>D</th>\n",
       "      <td>1.367433</td>\n",
       "      <td>NaN</td>\n",
       "      <td>NaN</td>\n",
       "      <td>NaN</td>\n",
       "      <td>NaN</td>\n",
       "    </tr>\n",
       "    <tr>\n",
       "      <th>E</th>\n",
       "      <td>NaN</td>\n",
       "      <td>0.806593</td>\n",
       "      <td>1.827682</td>\n",
       "      <td>NaN</td>\n",
       "      <td>NaN</td>\n",
       "    </tr>\n",
       "  </tbody>\n",
       "</table>\n",
       "</div>"
      ],
      "text/plain": [
       "         KA        MH        AP        KL        GL\n",
       "A       NaN       NaN       NaN  0.226460       NaN\n",
       "B       NaN  0.337643  1.714788       NaN  0.035393\n",
       "C  1.244341  1.880112  0.677488  0.979616  1.088491\n",
       "D  1.367433       NaN       NaN       NaN       NaN\n",
       "E       NaN  0.806593  1.827682       NaN       NaN"
      ]
     },
     "execution_count": 12,
     "metadata": {},
     "output_type": "execute_result"
    }
   ],
   "source": [
    "arr[arr>0] #just asigining a value of dataframe to the condition"
   ]
  },
  {
   "cell_type": "code",
   "execution_count": 13,
   "id": "eeeab08c",
   "metadata": {},
   "outputs": [
    {
     "data": {
      "text/html": [
       "<div>\n",
       "<style scoped>\n",
       "    .dataframe tbody tr th:only-of-type {\n",
       "        vertical-align: middle;\n",
       "    }\n",
       "\n",
       "    .dataframe tbody tr th {\n",
       "        vertical-align: top;\n",
       "    }\n",
       "\n",
       "    .dataframe thead th {\n",
       "        text-align: right;\n",
       "    }\n",
       "</style>\n",
       "<table border=\"1\" class=\"dataframe\">\n",
       "  <thead>\n",
       "    <tr style=\"text-align: right;\">\n",
       "      <th></th>\n",
       "      <th>KA</th>\n",
       "      <th>MH</th>\n",
       "      <th>AP</th>\n",
       "      <th>KL</th>\n",
       "      <th>GL</th>\n",
       "    </tr>\n",
       "  </thead>\n",
       "  <tbody>\n",
       "    <tr>\n",
       "      <th>A</th>\n",
       "      <td>-1.388011</td>\n",
       "      <td>-0.215487</td>\n",
       "      <td>-0.641433</td>\n",
       "      <td>0.226460</td>\n",
       "      <td>-0.135913</td>\n",
       "    </tr>\n",
       "    <tr>\n",
       "      <th>B</th>\n",
       "      <td>-0.324993</td>\n",
       "      <td>0.337643</td>\n",
       "      <td>1.714788</td>\n",
       "      <td>-0.962047</td>\n",
       "      <td>0.035393</td>\n",
       "    </tr>\n",
       "    <tr>\n",
       "      <th>C</th>\n",
       "      <td>1.244341</td>\n",
       "      <td>1.880112</td>\n",
       "      <td>0.677488</td>\n",
       "      <td>0.979616</td>\n",
       "      <td>1.088491</td>\n",
       "    </tr>\n",
       "    <tr>\n",
       "      <th>D</th>\n",
       "      <td>1.367433</td>\n",
       "      <td>-1.037584</td>\n",
       "      <td>-0.354604</td>\n",
       "      <td>-0.239065</td>\n",
       "      <td>-0.770719</td>\n",
       "    </tr>\n",
       "    <tr>\n",
       "      <th>E</th>\n",
       "      <td>-0.668706</td>\n",
       "      <td>0.806593</td>\n",
       "      <td>1.827682</td>\n",
       "      <td>-0.084111</td>\n",
       "      <td>-0.647606</td>\n",
       "    </tr>\n",
       "  </tbody>\n",
       "</table>\n",
       "</div>"
      ],
      "text/plain": [
       "         KA        MH        AP        KL        GL\n",
       "A -1.388011 -0.215487 -0.641433  0.226460 -0.135913\n",
       "B -0.324993  0.337643  1.714788 -0.962047  0.035393\n",
       "C  1.244341  1.880112  0.677488  0.979616  1.088491\n",
       "D  1.367433 -1.037584 -0.354604 -0.239065 -0.770719\n",
       "E -0.668706  0.806593  1.827682 -0.084111 -0.647606"
      ]
     },
     "execution_count": 13,
     "metadata": {},
     "output_type": "execute_result"
    }
   ],
   "source": [
    "arr"
   ]
  },
  {
   "cell_type": "code",
   "execution_count": 19,
   "id": "1e321796",
   "metadata": {},
   "outputs": [
    {
     "data": {
      "text/plain": [
       "C    1.244341\n",
       "D    1.367433\n",
       "Name: KA, dtype: float64"
      ]
     },
     "execution_count": 19,
     "metadata": {},
     "output_type": "execute_result"
    }
   ],
   "source": [
    "ram[\"KA\"]"
   ]
  },
  {
   "cell_type": "code",
   "execution_count": 21,
   "id": "0f38a66d",
   "metadata": {},
   "outputs": [
    {
     "data": {
      "text/html": [
       "<div>\n",
       "<style scoped>\n",
       "    .dataframe tbody tr th:only-of-type {\n",
       "        vertical-align: middle;\n",
       "    }\n",
       "\n",
       "    .dataframe tbody tr th {\n",
       "        vertical-align: top;\n",
       "    }\n",
       "\n",
       "    .dataframe thead th {\n",
       "        text-align: right;\n",
       "    }\n",
       "</style>\n",
       "<table border=\"1\" class=\"dataframe\">\n",
       "  <thead>\n",
       "    <tr style=\"text-align: right;\">\n",
       "      <th></th>\n",
       "      <th>KA</th>\n",
       "      <th>MH</th>\n",
       "      <th>AP</th>\n",
       "      <th>KL</th>\n",
       "      <th>GL</th>\n",
       "    </tr>\n",
       "  </thead>\n",
       "  <tbody>\n",
       "    <tr>\n",
       "      <th>C</th>\n",
       "      <td>1.244341</td>\n",
       "      <td>1.880112</td>\n",
       "      <td>0.677488</td>\n",
       "      <td>0.979616</td>\n",
       "      <td>1.088491</td>\n",
       "    </tr>\n",
       "    <tr>\n",
       "      <th>D</th>\n",
       "      <td>1.367433</td>\n",
       "      <td>-1.037584</td>\n",
       "      <td>-0.354604</td>\n",
       "      <td>-0.239065</td>\n",
       "      <td>-0.770719</td>\n",
       "    </tr>\n",
       "  </tbody>\n",
       "</table>\n",
       "</div>"
      ],
      "text/plain": [
       "         KA        MH        AP        KL        GL\n",
       "C  1.244341  1.880112  0.677488  0.979616  1.088491\n",
       "D  1.367433 -1.037584 -0.354604 -0.239065 -0.770719"
      ]
     },
     "execution_count": 21,
     "metadata": {},
     "output_type": "execute_result"
    }
   ],
   "source": [
    "arr[arr[\"KA\"]>0] #calling the only rows where the condition is true"
   ]
  },
  {
   "cell_type": "code",
   "execution_count": 22,
   "id": "b8a2d18a",
   "metadata": {},
   "outputs": [],
   "source": [
    "ram=arr[arr[\"KA\"]>0] "
   ]
  },
  {
   "cell_type": "code",
   "execution_count": 23,
   "id": "7688a161",
   "metadata": {},
   "outputs": [
    {
     "data": {
      "text/plain": [
       "C    1.244341\n",
       "D    1.367433\n",
       "Name: KA, dtype: float64"
      ]
     },
     "execution_count": 23,
     "metadata": {},
     "output_type": "execute_result"
    }
   ],
   "source": [
    "ram[\"KA\"]"
   ]
  },
  {
   "cell_type": "code",
   "execution_count": 25,
   "id": "cf67b3b5",
   "metadata": {},
   "outputs": [
    {
     "data": {
      "text/html": [
       "<div>\n",
       "<style scoped>\n",
       "    .dataframe tbody tr th:only-of-type {\n",
       "        vertical-align: middle;\n",
       "    }\n",
       "\n",
       "    .dataframe tbody tr th {\n",
       "        vertical-align: top;\n",
       "    }\n",
       "\n",
       "    .dataframe thead th {\n",
       "        text-align: right;\n",
       "    }\n",
       "</style>\n",
       "<table border=\"1\" class=\"dataframe\">\n",
       "  <thead>\n",
       "    <tr style=\"text-align: right;\">\n",
       "      <th></th>\n",
       "      <th>KA</th>\n",
       "      <th>MH</th>\n",
       "      <th>AP</th>\n",
       "      <th>KL</th>\n",
       "      <th>GL</th>\n",
       "    </tr>\n",
       "  </thead>\n",
       "  <tbody>\n",
       "    <tr>\n",
       "      <th>A</th>\n",
       "      <td>-1.388011</td>\n",
       "      <td>-0.215487</td>\n",
       "      <td>-0.641433</td>\n",
       "      <td>0.226460</td>\n",
       "      <td>-0.135913</td>\n",
       "    </tr>\n",
       "    <tr>\n",
       "      <th>B</th>\n",
       "      <td>-0.324993</td>\n",
       "      <td>0.337643</td>\n",
       "      <td>1.714788</td>\n",
       "      <td>-0.962047</td>\n",
       "      <td>0.035393</td>\n",
       "    </tr>\n",
       "    <tr>\n",
       "      <th>C</th>\n",
       "      <td>1.244341</td>\n",
       "      <td>1.880112</td>\n",
       "      <td>0.677488</td>\n",
       "      <td>0.979616</td>\n",
       "      <td>1.088491</td>\n",
       "    </tr>\n",
       "    <tr>\n",
       "      <th>D</th>\n",
       "      <td>1.367433</td>\n",
       "      <td>-1.037584</td>\n",
       "      <td>-0.354604</td>\n",
       "      <td>-0.239065</td>\n",
       "      <td>-0.770719</td>\n",
       "    </tr>\n",
       "    <tr>\n",
       "      <th>E</th>\n",
       "      <td>-0.668706</td>\n",
       "      <td>0.806593</td>\n",
       "      <td>1.827682</td>\n",
       "      <td>-0.084111</td>\n",
       "      <td>-0.647606</td>\n",
       "    </tr>\n",
       "  </tbody>\n",
       "</table>\n",
       "</div>"
      ],
      "text/plain": [
       "         KA        MH        AP        KL        GL\n",
       "A -1.388011 -0.215487 -0.641433  0.226460 -0.135913\n",
       "B -0.324993  0.337643  1.714788 -0.962047  0.035393\n",
       "C  1.244341  1.880112  0.677488  0.979616  1.088491\n",
       "D  1.367433 -1.037584 -0.354604 -0.239065 -0.770719\n",
       "E -0.668706  0.806593  1.827682 -0.084111 -0.647606"
      ]
     },
     "execution_count": 25,
     "metadata": {},
     "output_type": "execute_result"
    }
   ],
   "source": [
    "arr"
   ]
  },
  {
   "cell_type": "code",
   "execution_count": 27,
   "id": "36334068",
   "metadata": {},
   "outputs": [],
   "source": [
    "arr[\"PRICE\"]=[130.3,141.3,154.7,172.4,191.77]"
   ]
  },
  {
   "cell_type": "code",
   "execution_count": 28,
   "id": "1efd8644",
   "metadata": {},
   "outputs": [
    {
     "data": {
      "text/html": [
       "<div>\n",
       "<style scoped>\n",
       "    .dataframe tbody tr th:only-of-type {\n",
       "        vertical-align: middle;\n",
       "    }\n",
       "\n",
       "    .dataframe tbody tr th {\n",
       "        vertical-align: top;\n",
       "    }\n",
       "\n",
       "    .dataframe thead th {\n",
       "        text-align: right;\n",
       "    }\n",
       "</style>\n",
       "<table border=\"1\" class=\"dataframe\">\n",
       "  <thead>\n",
       "    <tr style=\"text-align: right;\">\n",
       "      <th></th>\n",
       "      <th>KA</th>\n",
       "      <th>MH</th>\n",
       "      <th>AP</th>\n",
       "      <th>KL</th>\n",
       "      <th>GL</th>\n",
       "      <th>PRICE</th>\n",
       "    </tr>\n",
       "  </thead>\n",
       "  <tbody>\n",
       "    <tr>\n",
       "      <th>A</th>\n",
       "      <td>-1.388011</td>\n",
       "      <td>-0.215487</td>\n",
       "      <td>-0.641433</td>\n",
       "      <td>0.226460</td>\n",
       "      <td>-0.135913</td>\n",
       "      <td>130.30</td>\n",
       "    </tr>\n",
       "    <tr>\n",
       "      <th>B</th>\n",
       "      <td>-0.324993</td>\n",
       "      <td>0.337643</td>\n",
       "      <td>1.714788</td>\n",
       "      <td>-0.962047</td>\n",
       "      <td>0.035393</td>\n",
       "      <td>141.30</td>\n",
       "    </tr>\n",
       "    <tr>\n",
       "      <th>C</th>\n",
       "      <td>1.244341</td>\n",
       "      <td>1.880112</td>\n",
       "      <td>0.677488</td>\n",
       "      <td>0.979616</td>\n",
       "      <td>1.088491</td>\n",
       "      <td>154.70</td>\n",
       "    </tr>\n",
       "    <tr>\n",
       "      <th>D</th>\n",
       "      <td>1.367433</td>\n",
       "      <td>-1.037584</td>\n",
       "      <td>-0.354604</td>\n",
       "      <td>-0.239065</td>\n",
       "      <td>-0.770719</td>\n",
       "      <td>172.40</td>\n",
       "    </tr>\n",
       "    <tr>\n",
       "      <th>E</th>\n",
       "      <td>-0.668706</td>\n",
       "      <td>0.806593</td>\n",
       "      <td>1.827682</td>\n",
       "      <td>-0.084111</td>\n",
       "      <td>-0.647606</td>\n",
       "      <td>191.77</td>\n",
       "    </tr>\n",
       "  </tbody>\n",
       "</table>\n",
       "</div>"
      ],
      "text/plain": [
       "         KA        MH        AP        KL        GL   PRICE\n",
       "A -1.388011 -0.215487 -0.641433  0.226460 -0.135913  130.30\n",
       "B -0.324993  0.337643  1.714788 -0.962047  0.035393  141.30\n",
       "C  1.244341  1.880112  0.677488  0.979616  1.088491  154.70\n",
       "D  1.367433 -1.037584 -0.354604 -0.239065 -0.770719  172.40\n",
       "E -0.668706  0.806593  1.827682 -0.084111 -0.647606  191.77"
      ]
     },
     "execution_count": 28,
     "metadata": {},
     "output_type": "execute_result"
    }
   ],
   "source": [
    "arr"
   ]
  },
  {
   "cell_type": "code",
   "execution_count": 29,
   "id": "451a9b1d",
   "metadata": {},
   "outputs": [
    {
     "data": {
      "text/html": [
       "<div>\n",
       "<style scoped>\n",
       "    .dataframe tbody tr th:only-of-type {\n",
       "        vertical-align: middle;\n",
       "    }\n",
       "\n",
       "    .dataframe tbody tr th {\n",
       "        vertical-align: top;\n",
       "    }\n",
       "\n",
       "    .dataframe thead th {\n",
       "        text-align: right;\n",
       "    }\n",
       "</style>\n",
       "<table border=\"1\" class=\"dataframe\">\n",
       "  <thead>\n",
       "    <tr style=\"text-align: right;\">\n",
       "      <th></th>\n",
       "      <th>KA</th>\n",
       "      <th>MH</th>\n",
       "      <th>AP</th>\n",
       "      <th>KL</th>\n",
       "      <th>GL</th>\n",
       "    </tr>\n",
       "    <tr>\n",
       "      <th>PRICE</th>\n",
       "      <th></th>\n",
       "      <th></th>\n",
       "      <th></th>\n",
       "      <th></th>\n",
       "      <th></th>\n",
       "    </tr>\n",
       "  </thead>\n",
       "  <tbody>\n",
       "    <tr>\n",
       "      <th>130.30</th>\n",
       "      <td>-1.388011</td>\n",
       "      <td>-0.215487</td>\n",
       "      <td>-0.641433</td>\n",
       "      <td>0.226460</td>\n",
       "      <td>-0.135913</td>\n",
       "    </tr>\n",
       "    <tr>\n",
       "      <th>141.30</th>\n",
       "      <td>-0.324993</td>\n",
       "      <td>0.337643</td>\n",
       "      <td>1.714788</td>\n",
       "      <td>-0.962047</td>\n",
       "      <td>0.035393</td>\n",
       "    </tr>\n",
       "    <tr>\n",
       "      <th>154.70</th>\n",
       "      <td>1.244341</td>\n",
       "      <td>1.880112</td>\n",
       "      <td>0.677488</td>\n",
       "      <td>0.979616</td>\n",
       "      <td>1.088491</td>\n",
       "    </tr>\n",
       "    <tr>\n",
       "      <th>172.40</th>\n",
       "      <td>1.367433</td>\n",
       "      <td>-1.037584</td>\n",
       "      <td>-0.354604</td>\n",
       "      <td>-0.239065</td>\n",
       "      <td>-0.770719</td>\n",
       "    </tr>\n",
       "    <tr>\n",
       "      <th>191.77</th>\n",
       "      <td>-0.668706</td>\n",
       "      <td>0.806593</td>\n",
       "      <td>1.827682</td>\n",
       "      <td>-0.084111</td>\n",
       "      <td>-0.647606</td>\n",
       "    </tr>\n",
       "  </tbody>\n",
       "</table>\n",
       "</div>"
      ],
      "text/plain": [
       "              KA        MH        AP        KL        GL\n",
       "PRICE                                                   \n",
       "130.30 -1.388011 -0.215487 -0.641433  0.226460 -0.135913\n",
       "141.30 -0.324993  0.337643  1.714788 -0.962047  0.035393\n",
       "154.70  1.244341  1.880112  0.677488  0.979616  1.088491\n",
       "172.40  1.367433 -1.037584 -0.354604 -0.239065 -0.770719\n",
       "191.77 -0.668706  0.806593  1.827682 -0.084111 -0.647606"
      ]
     },
     "execution_count": 29,
     "metadata": {},
     "output_type": "execute_result"
    }
   ],
   "source": [
    "arr.set_index(\"PRICE\")#just for practice"
   ]
  },
  {
   "cell_type": "code",
   "execution_count": 32,
   "id": "87aba8f6",
   "metadata": {},
   "outputs": [
    {
     "data": {
      "text/html": [
       "<div>\n",
       "<style scoped>\n",
       "    .dataframe tbody tr th:only-of-type {\n",
       "        vertical-align: middle;\n",
       "    }\n",
       "\n",
       "    .dataframe tbody tr th {\n",
       "        vertical-align: top;\n",
       "    }\n",
       "\n",
       "    .dataframe thead th {\n",
       "        text-align: right;\n",
       "    }\n",
       "</style>\n",
       "<table border=\"1\" class=\"dataframe\">\n",
       "  <thead>\n",
       "    <tr style=\"text-align: right;\">\n",
       "      <th></th>\n",
       "      <th>KA</th>\n",
       "      <th>MH</th>\n",
       "      <th>AP</th>\n",
       "      <th>KL</th>\n",
       "      <th>GL</th>\n",
       "      <th>PRICE</th>\n",
       "    </tr>\n",
       "  </thead>\n",
       "  <tbody>\n",
       "    <tr>\n",
       "      <th>C</th>\n",
       "      <td>1.244341</td>\n",
       "      <td>1.880112</td>\n",
       "      <td>0.677488</td>\n",
       "      <td>0.979616</td>\n",
       "      <td>1.088491</td>\n",
       "      <td>154.7</td>\n",
       "    </tr>\n",
       "    <tr>\n",
       "      <th>D</th>\n",
       "      <td>1.367433</td>\n",
       "      <td>-1.037584</td>\n",
       "      <td>-0.354604</td>\n",
       "      <td>-0.239065</td>\n",
       "      <td>-0.770719</td>\n",
       "      <td>172.4</td>\n",
       "    </tr>\n",
       "  </tbody>\n",
       "</table>\n",
       "</div>"
      ],
      "text/plain": [
       "         KA        MH        AP        KL        GL  PRICE\n",
       "C  1.244341  1.880112  0.677488  0.979616  1.088491  154.7\n",
       "D  1.367433 -1.037584 -0.354604 -0.239065 -0.770719  172.4"
      ]
     },
     "execution_count": 32,
     "metadata": {},
     "output_type": "execute_result"
    }
   ],
   "source": [
    "arr[(arr[\"KA\"]>1 & (arr[\"MH\"]>1))]"
   ]
  },
  {
   "cell_type": "code",
   "execution_count": 33,
   "id": "87621493",
   "metadata": {},
   "outputs": [
    {
     "data": {
      "text/html": [
       "<div>\n",
       "<style scoped>\n",
       "    .dataframe tbody tr th:only-of-type {\n",
       "        vertical-align: middle;\n",
       "    }\n",
       "\n",
       "    .dataframe tbody tr th {\n",
       "        vertical-align: top;\n",
       "    }\n",
       "\n",
       "    .dataframe thead th {\n",
       "        text-align: right;\n",
       "    }\n",
       "</style>\n",
       "<table border=\"1\" class=\"dataframe\">\n",
       "  <thead>\n",
       "    <tr style=\"text-align: right;\">\n",
       "      <th></th>\n",
       "      <th>KA</th>\n",
       "      <th>MH</th>\n",
       "      <th>AP</th>\n",
       "      <th>KL</th>\n",
       "      <th>GL</th>\n",
       "      <th>PRICE</th>\n",
       "    </tr>\n",
       "  </thead>\n",
       "  <tbody>\n",
       "    <tr>\n",
       "      <th>A</th>\n",
       "      <td>-1.388011</td>\n",
       "      <td>-0.215487</td>\n",
       "      <td>-0.641433</td>\n",
       "      <td>0.226460</td>\n",
       "      <td>-0.135913</td>\n",
       "      <td>130.30</td>\n",
       "    </tr>\n",
       "    <tr>\n",
       "      <th>B</th>\n",
       "      <td>-0.324993</td>\n",
       "      <td>0.337643</td>\n",
       "      <td>1.714788</td>\n",
       "      <td>-0.962047</td>\n",
       "      <td>0.035393</td>\n",
       "      <td>141.30</td>\n",
       "    </tr>\n",
       "    <tr>\n",
       "      <th>C</th>\n",
       "      <td>1.244341</td>\n",
       "      <td>1.880112</td>\n",
       "      <td>0.677488</td>\n",
       "      <td>0.979616</td>\n",
       "      <td>1.088491</td>\n",
       "      <td>154.70</td>\n",
       "    </tr>\n",
       "    <tr>\n",
       "      <th>D</th>\n",
       "      <td>1.367433</td>\n",
       "      <td>-1.037584</td>\n",
       "      <td>-0.354604</td>\n",
       "      <td>-0.239065</td>\n",
       "      <td>-0.770719</td>\n",
       "      <td>172.40</td>\n",
       "    </tr>\n",
       "    <tr>\n",
       "      <th>E</th>\n",
       "      <td>-0.668706</td>\n",
       "      <td>0.806593</td>\n",
       "      <td>1.827682</td>\n",
       "      <td>-0.084111</td>\n",
       "      <td>-0.647606</td>\n",
       "      <td>191.77</td>\n",
       "    </tr>\n",
       "  </tbody>\n",
       "</table>\n",
       "</div>"
      ],
      "text/plain": [
       "         KA        MH        AP        KL        GL   PRICE\n",
       "A -1.388011 -0.215487 -0.641433  0.226460 -0.135913  130.30\n",
       "B -0.324993  0.337643  1.714788 -0.962047  0.035393  141.30\n",
       "C  1.244341  1.880112  0.677488  0.979616  1.088491  154.70\n",
       "D  1.367433 -1.037584 -0.354604 -0.239065 -0.770719  172.40\n",
       "E -0.668706  0.806593  1.827682 -0.084111 -0.647606  191.77"
      ]
     },
     "execution_count": 33,
     "metadata": {},
     "output_type": "execute_result"
    }
   ],
   "source": [
    "arr"
   ]
  },
  {
   "cell_type": "code",
   "execution_count": null,
   "id": "2c5aab57",
   "metadata": {},
   "outputs": [],
   "source": []
  }
 ],
 "metadata": {
  "kernelspec": {
   "display_name": "Python 3 (ipykernel)",
   "language": "python",
   "name": "python3"
  },
  "language_info": {
   "codemirror_mode": {
    "name": "ipython",
    "version": 3
   },
   "file_extension": ".py",
   "mimetype": "text/x-python",
   "name": "python",
   "nbconvert_exporter": "python",
   "pygments_lexer": "ipython3",
   "version": "3.11.5"
  }
 },
 "nbformat": 4,
 "nbformat_minor": 5
}
