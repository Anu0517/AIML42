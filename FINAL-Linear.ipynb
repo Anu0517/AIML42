{
 "cells": [
  {
   "cell_type": "markdown",
   "id": "2076d569",
   "metadata": {},
   "source": [
    "# MODEL-DATASET-ABMD"
   ]
  },
  {
   "cell_type": "code",
   "execution_count": null,
   "id": "cc069cf7",
   "metadata": {},
   "outputs": [],
   "source": [
    "import pandas as pd\n",
    "import numpy as np\n",
    "import matplotlib.pyplot as plt\n",
    "\n",
    "import chart_studio.plotly as py\n",
    "import plotly.graph_objs as go\n",
    "from plotly.offline import plot\n",
    "from plotly.offline import iplot"
   ]
  },
  {
   "cell_type": "code",
   "execution_count": null,
   "id": "fabe4bcb",
   "metadata": {},
   "outputs": [],
   "source": [
    "main = pd.read_csv(\"ABMD.csv\")\n",
    "main"
   ]
  },
  {
   "cell_type": "markdown",
   "id": "523ff08e",
   "metadata": {},
   "source": [
    "## **Rows=8236, Columns=7**"
   ]
  },
  {
   "cell_type": "code",
   "execution_count": null,
   "id": "d2ef305b",
   "metadata": {},
   "outputs": [],
   "source": [
    "main.info()"
   ]
  },
  {
   "cell_type": "code",
   "execution_count": null,
   "id": "22295792",
   "metadata": {},
   "outputs": [],
   "source": [
    "main['Date']=pd.to_datetime(main['Date'])"
   ]
  },
  {
   "cell_type": "code",
   "execution_count": null,
   "id": "e229b769",
   "metadata": {},
   "outputs": [],
   "source": [
    "print(f'DATAFRAME contains stock price between the days {main.Date.min()} to {main.Date.max()}')\n",
    "print(f'Total days = {(main.Date.max() - main.Date.min()).days} day')"
   ]
  },
  {
   "cell_type": "code",
   "execution_count": null,
   "id": "d1e091f6",
   "metadata": {},
   "outputs": [],
   "source": [
    "main.tail()"
   ]
  },
  {
   "cell_type": "code",
   "execution_count": null,
   "id": "a60e095e",
   "metadata": {
    "scrolled": true
   },
   "outputs": [],
   "source": [
    "main.describe()"
   ]
  },
  {
   "cell_type": "markdown",
   "id": "75b44151",
   "metadata": {},
   "source": [
    "##  **Outliers**"
   ]
  },
  {
   "cell_type": "code",
   "execution_count": null,
   "id": "8bc4661e",
   "metadata": {},
   "outputs": [],
   "source": [
    "Q1=main.Close.quantile(0.25)\n",
    "Q2=main.Close.quantile(0.75)\n",
    "Q1,Q2"
   ]
  },
  {
   "cell_type": "code",
   "execution_count": null,
   "id": "837e1108",
   "metadata": {},
   "outputs": [],
   "source": [
    "IQR=Q2-Q1\n",
    "IQR"
   ]
  },
  {
   "cell_type": "code",
   "execution_count": null,
   "id": "6516ac34",
   "metadata": {},
   "outputs": [],
   "source": [
    "lower=Q1-1.5*IQR\n",
    "upper=Q2+1.5*IQR\n",
    "lower,upper"
   ]
  },
  {
   "cell_type": "code",
   "execution_count": null,
   "id": "2b36aea0",
   "metadata": {},
   "outputs": [],
   "source": [
    "k=main[(main.Close>lower)&(main.Close<upper)]\n",
    "k"
   ]
  },
  {
   "cell_type": "markdown",
   "id": "9f53e59b",
   "metadata": {},
   "source": [
    "## **Rows=6932 , Columns=7**"
   ]
  },
  {
   "cell_type": "code",
   "execution_count": null,
   "id": "810aa15a",
   "metadata": {},
   "outputs": [],
   "source": [
    "main['Date']=pd.to_datetime(main['Date'])"
   ]
  },
  {
   "cell_type": "code",
   "execution_count": null,
   "id": "a3c4d15f",
   "metadata": {},
   "outputs": [],
   "source": [
    "print(f'DATAFRAME contains stock price between {main.Date.min()} {main.Date.max()}')\n",
    "print(f'Total days ={(main.Date.max() - main.Date.min()).days}day')"
   ]
  },
  {
   "cell_type": "markdown",
   "id": "6ab66952",
   "metadata": {},
   "source": [
    "##  **Applying Model**"
   ]
  },
  {
   "cell_type": "code",
   "execution_count": null,
   "id": "02cd2665",
   "metadata": {},
   "outputs": [],
   "source": [
    "from sklearn.model_selection import train_test_split\n",
    "from sklearn.preprocessing import StandardScaler\n",
    "from sklearn.metrics import r2_score"
   ]
  },
  {
   "cell_type": "code",
   "execution_count": null,
   "id": "c870d5b7",
   "metadata": {},
   "outputs": [],
   "source": [
    "X= k.drop(['Date','Close','Adj Close','Volume','High','Low'], axis=1).values\n",
    "Y= k['Close'].values"
   ]
  },
  {
   "cell_type": "code",
   "execution_count": null,
   "id": "39f91482",
   "metadata": {},
   "outputs": [],
   "source": [
    "X"
   ]
  },
  {
   "cell_type": "code",
   "execution_count": null,
   "id": "78b2e6d1",
   "metadata": {},
   "outputs": [],
   "source": [
    "Y"
   ]
  },
  {
   "cell_type": "code",
   "execution_count": null,
   "id": "fc053753",
   "metadata": {},
   "outputs": [],
   "source": [
    "X_train,X_test,Y_train,Y_test = train_test_split(X,Y,test_size = 0.3,random_state =0)"
   ]
  },
  {
   "cell_type": "code",
   "execution_count": null,
   "id": "395cd9aa",
   "metadata": {},
   "outputs": [],
   "source": [
    "scaler = StandardScaler().fit(X_train)"
   ]
  },
  {
   "cell_type": "code",
   "execution_count": null,
   "id": "54ca4260",
   "metadata": {},
   "outputs": [],
   "source": [
    "from sklearn.linear_model import LinearRegression"
   ]
  },
  {
   "cell_type": "code",
   "execution_count": null,
   "id": "d60817c2",
   "metadata": {},
   "outputs": [],
   "source": [
    "lm = LinearRegression()\n",
    "lm.fit(X_train,Y_train)"
   ]
  },
  {
   "cell_type": "code",
   "execution_count": null,
   "id": "bc39e923",
   "metadata": {},
   "outputs": [],
   "source": [
    "layout = go.Layout(\n",
    " title=\"STOCK PRICE ABMD\",\n",
    " xaxis=dict(\n",
    "        title=\"Date\",\n",
    "         titlefont=dict(\n",
    "         family='Courier New,monospce',\n",
    "        size=18,\n",
    "         color='#7f7f7f'\n",
    "         )\n",
    " ),\n",
    "   yaxis=dict(\n",
    "        title=\"Price\",\n",
    "         titlefont=dict(\n",
    "         family='Courier New,monospce',\n",
    "         size=18,\n",
    "         color='#7f7f7f'\n",
    "         )\n",
    "   )\n",
    ")\n",
    "main_data=[{'x':main['Open'],'y':main['Close']}]\n",
    "plot=go.Figure(data=main_data,layout=layout)"
   ]
  },
  {
   "cell_type": "code",
   "execution_count": null,
   "id": "6b6a043a",
   "metadata": {},
   "outputs": [],
   "source": [
    "trace0 = go.Scatter(\n",
    "  x= X_train.T[0],\n",
    "  y = Y_train,\n",
    "  mode = \"markers\",\n",
    "  name = \"Actual\"\n",
    ")\n",
    "trace1 = go.Scatter(\n",
    "     x= X_train.T[0],\n",
    "     y = lm.predict(X_train).T,\n",
    "  mode = \"lines\",\n",
    "  name = \"Predicted\"\n",
    " )\n",
    "tesla_data = [trace0,trace1]\n",
    "layout.xaxis.title.text='Open'\n",
    "plot2 = go.Figure(data=tesla_data,layout=layout)"
   ]
  },
  {
   "cell_type": "code",
   "execution_count": null,
   "id": "af5cb512",
   "metadata": {},
   "outputs": [],
   "source": [
    "iplot(plot2)"
   ]
  },
  {
   "cell_type": "code",
   "execution_count": null,
   "id": "4d8ee7a0",
   "metadata": {},
   "outputs": [],
   "source": [
    "lm.intercept_"
   ]
  },
  {
   "cell_type": "code",
   "execution_count": null,
   "id": "fd4fe4a4",
   "metadata": {},
   "outputs": [],
   "source": [
    "lm.coef_"
   ]
  },
  {
   "cell_type": "code",
   "execution_count": null,
   "id": "67ea7867",
   "metadata": {},
   "outputs": [],
   "source": [
    "Y_pred = lm.predict(X_test)\n",
    "Y_pred"
   ]
  },
  {
   "cell_type": "markdown",
   "id": "de4b1242",
   "metadata": {},
   "source": [
    "## **Model Check**"
   ]
  },
  {
   "cell_type": "code",
   "execution_count": null,
   "id": "6a819a4f",
   "metadata": {},
   "outputs": [],
   "source": [
    "lm.predict([[23.690001]])"
   ]
  },
  {
   "cell_type": "markdown",
   "id": "345c2d5a",
   "metadata": {},
   "source": [
    "## **Manual Check**"
   ]
  },
  {
   "cell_type": "code",
   "execution_count": null,
   "id": "d1c99437",
   "metadata": {},
   "outputs": [],
   "source": [
    "y=23.690001*0.99489736+0.05590833017411434\n",
    "y"
   ]
  },
  {
   "cell_type": "code",
   "execution_count": null,
   "id": "6f260d33",
   "metadata": {},
   "outputs": [],
   "source": [
    "r2_score(Y_test,Y_pred)"
   ]
  },
  {
   "cell_type": "code",
   "execution_count": null,
   "id": "50a5799e",
   "metadata": {},
   "outputs": [],
   "source": [
    "predi = pd.DataFrame({'Actual Value':Y_test,'Predict value':Y_pred,'Difference':Y_test-Y_pred})\n",
    "predi[0:20]"
   ]
  }
 ],
 "metadata": {
  "kernelspec": {
   "display_name": "Python 3 (ipykernel)",
   "language": "python",
   "name": "python3"
  },
  "language_info": {
   "codemirror_mode": {
    "name": "ipython",
    "version": 3
   },
   "file_extension": ".py",
   "mimetype": "text/x-python",
   "name": "python",
   "nbconvert_exporter": "python",
   "pygments_lexer": "ipython3",
   "version": "3.11.4"
  }
 },
 "nbformat": 4,
 "nbformat_minor": 5
}
